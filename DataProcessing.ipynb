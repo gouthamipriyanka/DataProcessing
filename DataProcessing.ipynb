{
 "cells": [
  {
   "cell_type": "markdown",
   "metadata": {},
   "source": [
    "Introduction\n",
    "\n",
    "This python file uses Pandas-Data Manipulation Library, Joblib-Parallel processing library to convert a large data file which contains lexical information about users and their lexical knowledge in English while their native speaking language is Arabic into a desired shape. In the final file the columns represent the words, and rows indicate the number of users who has accuratley answered the words presented to them with no less than three errors.\n",
    "\n",
    "The required information of the users is distributed in three files namely profiles.csv,sessions.csv, lexical-decision.csv.\n",
    "The column common to any two files is used to combine the user information to create a final entry in the output file."
   ]
  },
  {
   "cell_type": "code",
   "execution_count": 24,
   "metadata": {},
   "outputs": [
    {
     "name": "stdout",
     "output_type": "stream",
     "text": [
      "Requirement already satisfied: pandas in d:\\geoff\\.conda\\lib\\site-packages (2.2.1)\n",
      "Requirement already satisfied: numpy<2,>=1.26.0 in d:\\geoff\\.conda\\lib\\site-packages (from pandas) (1.26.4)\n",
      "Requirement already satisfied: python-dateutil>=2.8.2 in d:\\geoff\\.conda\\lib\\site-packages (from pandas) (2.9.0)\n",
      "Requirement already satisfied: pytz>=2020.1 in d:\\geoff\\.conda\\lib\\site-packages (from pandas) (2024.1)\n",
      "Requirement already satisfied: tzdata>=2022.7 in d:\\geoff\\.conda\\lib\\site-packages (from pandas) (2024.1)\n",
      "Requirement already satisfied: six>=1.5 in d:\\geoff\\.conda\\lib\\site-packages (from python-dateutil>=2.8.2->pandas) (1.16.0)\n"
     ]
    }
   ],
   "source": [
    "# Install and import the pandas library\n",
    "! pip install pandas\n",
    "import pandas as pd"
   ]
  },
  {
   "cell_type": "code",
   "execution_count": 2,
   "metadata": {},
   "outputs": [
    {
     "name": "stderr",
     "output_type": "stream",
     "text": [
      "<>:1: SyntaxWarning: invalid escape sequence '\\p'\n",
      "<>:1: SyntaxWarning: invalid escape sequence '\\p'\n",
      "C:\\Users\\gouth\\AppData\\Local\\Temp\\ipykernel_4792\\605641246.py:1: SyntaxWarning: invalid escape sequence '\\p'\n",
      "  df_profile = pd.read_csv('D:\\\\Geoff\\profiles.csv')\n"
     ]
    },
    {
     "data": {
      "text/html": [
       "<div>\n",
       "<style scoped>\n",
       "    .dataframe tbody tr th:only-of-type {\n",
       "        vertical-align: middle;\n",
       "    }\n",
       "\n",
       "    .dataframe tbody tr th {\n",
       "        vertical-align: top;\n",
       "    }\n",
       "\n",
       "    .dataframe thead th {\n",
       "        text-align: right;\n",
       "    }\n",
       "</style>\n",
       "<table border=\"1\" class=\"dataframe\">\n",
       "  <thead>\n",
       "    <tr style=\"text-align: right;\">\n",
       "      <th></th>\n",
       "      <th>profile_id</th>\n",
       "      <th>browser_id</th>\n",
       "      <th>ua_id</th>\n",
       "      <th>gender</th>\n",
       "      <th>age</th>\n",
       "      <th>country</th>\n",
       "      <th>education</th>\n",
       "      <th>native_language</th>\n",
       "      <th>level_english</th>\n",
       "      <th>no_foreign_lang</th>\n",
       "      <th>best_foreign</th>\n",
       "      <th>handedness</th>\n",
       "    </tr>\n",
       "  </thead>\n",
       "  <tbody>\n",
       "    <tr>\n",
       "      <th>0</th>\n",
       "      <td>72953</td>\n",
       "      <td>44218</td>\n",
       "      <td>315</td>\n",
       "      <td>Female</td>\n",
       "      <td>32.0</td>\n",
       "      <td>United Arab Emirates</td>\n",
       "      <td>Bachelor</td>\n",
       "      <td>Arabic</td>\n",
       "      <td>I speak and read the language fluently.</td>\n",
       "      <td>0.0</td>\n",
       "      <td>English</td>\n",
       "      <td>Right-handed</td>\n",
       "    </tr>\n",
       "    <tr>\n",
       "      <th>1</th>\n",
       "      <td>83529</td>\n",
       "      <td>52259</td>\n",
       "      <td>2853</td>\n",
       "      <td>Female</td>\n",
       "      <td>20.0</td>\n",
       "      <td>Jordan</td>\n",
       "      <td>Bachelor</td>\n",
       "      <td>Arabic</td>\n",
       "      <td>I speak and read the language fluently.</td>\n",
       "      <td>1.0</td>\n",
       "      <td>English</td>\n",
       "      <td>Right-handed</td>\n",
       "    </tr>\n",
       "    <tr>\n",
       "      <th>2</th>\n",
       "      <td>96311</td>\n",
       "      <td>61709</td>\n",
       "      <td>55</td>\n",
       "      <td>Male</td>\n",
       "      <td>22.0</td>\n",
       "      <td>Egypt</td>\n",
       "      <td>Bachelor</td>\n",
       "      <td>Arabic</td>\n",
       "      <td>I speak and read the language fluently.</td>\n",
       "      <td>1.0</td>\n",
       "      <td>English</td>\n",
       "      <td>Right-handed</td>\n",
       "    </tr>\n",
       "    <tr>\n",
       "      <th>3</th>\n",
       "      <td>117641</td>\n",
       "      <td>77458</td>\n",
       "      <td>7066</td>\n",
       "      <td>Female</td>\n",
       "      <td>41.0</td>\n",
       "      <td>Lebanon</td>\n",
       "      <td>Bachelor</td>\n",
       "      <td>Arabic</td>\n",
       "      <td>I speak and read the language fluently.</td>\n",
       "      <td>1.0</td>\n",
       "      <td>Arabic</td>\n",
       "      <td>Left-handed</td>\n",
       "    </tr>\n",
       "    <tr>\n",
       "      <th>4</th>\n",
       "      <td>124298</td>\n",
       "      <td>82277</td>\n",
       "      <td>370</td>\n",
       "      <td>Male</td>\n",
       "      <td>35.0</td>\n",
       "      <td>Saudi Arabia</td>\n",
       "      <td>PhD</td>\n",
       "      <td>Arabic</td>\n",
       "      <td>I speak and read the language fluently.</td>\n",
       "      <td>0.0</td>\n",
       "      <td>Arabic</td>\n",
       "      <td>Right-handed</td>\n",
       "    </tr>\n",
       "  </tbody>\n",
       "</table>\n",
       "</div>"
      ],
      "text/plain": [
       "   profile_id  browser_id  ua_id  gender   age               country  \\\n",
       "0       72953       44218    315  Female  32.0  United Arab Emirates   \n",
       "1       83529       52259   2853  Female  20.0                Jordan   \n",
       "2       96311       61709     55    Male  22.0                 Egypt   \n",
       "3      117641       77458   7066  Female  41.0               Lebanon   \n",
       "4      124298       82277    370    Male  35.0          Saudi Arabia   \n",
       "\n",
       "  education native_language                            level_english  \\\n",
       "0  Bachelor          Arabic  I speak and read the language fluently.   \n",
       "1  Bachelor          Arabic  I speak and read the language fluently.   \n",
       "2  Bachelor          Arabic  I speak and read the language fluently.   \n",
       "3  Bachelor          Arabic  I speak and read the language fluently.   \n",
       "4       PhD          Arabic  I speak and read the language fluently.   \n",
       "\n",
       "   no_foreign_lang best_foreign    handedness  \n",
       "0              0.0      English  Right-handed  \n",
       "1              1.0      English  Right-handed  \n",
       "2              1.0      English  Right-handed  \n",
       "3              1.0       Arabic   Left-handed  \n",
       "4              0.0       Arabic  Right-handed  "
      ]
     },
     "execution_count": 2,
     "metadata": {},
     "output_type": "execute_result"
    }
   ],
   "source": [
    "# Read the profiles file as a csv object.\n",
    "df_profile = pd.read_csv('D:\\\\Geoff\\profiles.csv')\n",
    "df_profile.head()"
   ]
  },
  {
   "cell_type": "code",
   "execution_count": 3,
   "metadata": {},
   "outputs": [
    {
     "name": "stdout",
     "output_type": "stream",
     "text": [
      "(17559, 12)\n"
     ]
    },
    {
     "data": {
      "text/plain": [
       "17559"
      ]
     },
     "execution_count": 3,
     "metadata": {},
     "output_type": "execute_result"
    }
   ],
   "source": [
    "print(f'Shape of df_profile {df_profile.shape}')\n",
    "print(f'Number of unique profile ids {len(df_profile['profile_id'].unique())}')"
   ]
  },
  {
   "cell_type": "code",
   "execution_count": 4,
   "metadata": {},
   "outputs": [
    {
     "name": "stderr",
     "output_type": "stream",
     "text": [
      "<>:1: SyntaxWarning: invalid escape sequence '\\G'\n",
      "<>:1: SyntaxWarning: invalid escape sequence '\\G'\n",
      "C:\\Users\\gouth\\AppData\\Local\\Temp\\ipykernel_4792\\1280424540.py:1: SyntaxWarning: invalid escape sequence '\\G'\n",
      "  df_sessions = pd.read_csv('D:\\Geoff\\sessions.csv')\n"
     ]
    },
    {
     "data": {
      "text/html": [
       "<div>\n",
       "<style scoped>\n",
       "    .dataframe tbody tr th:only-of-type {\n",
       "        vertical-align: middle;\n",
       "    }\n",
       "\n",
       "    .dataframe tbody tr th {\n",
       "        vertical-align: top;\n",
       "    }\n",
       "\n",
       "    .dataframe thead th {\n",
       "        text-align: right;\n",
       "    }\n",
       "</style>\n",
       "<table border=\"1\" class=\"dataframe\">\n",
       "  <thead>\n",
       "    <tr style=\"text-align: right;\">\n",
       "      <th></th>\n",
       "      <th>exp_id</th>\n",
       "      <th>time_start</th>\n",
       "      <th>time_end</th>\n",
       "      <th>profile_id</th>\n",
       "      <th>ua_id</th>\n",
       "      <th>touch</th>\n",
       "      <th>nw_acc</th>\n",
       "      <th>w_acc</th>\n",
       "      <th>score</th>\n",
       "      <th>profile_id_session</th>\n",
       "    </tr>\n",
       "  </thead>\n",
       "  <tbody>\n",
       "    <tr>\n",
       "      <th>0</th>\n",
       "      <td>50572</td>\n",
       "      <td>29-01-2014 17:01</td>\n",
       "      <td>29-01-2014 17:04</td>\n",
       "      <td>50572</td>\n",
       "      <td>1390</td>\n",
       "      <td>False</td>\n",
       "      <td>0.866667</td>\n",
       "      <td>0.871429</td>\n",
       "      <td>0.738095</td>\n",
       "      <td>1</td>\n",
       "    </tr>\n",
       "    <tr>\n",
       "      <th>1</th>\n",
       "      <td>50804</td>\n",
       "      <td>29-01-2014 18:45</td>\n",
       "      <td>29-01-2014 18:50</td>\n",
       "      <td>50572</td>\n",
       "      <td>1390</td>\n",
       "      <td>False</td>\n",
       "      <td>0.933333</td>\n",
       "      <td>0.757143</td>\n",
       "      <td>0.690476</td>\n",
       "      <td>2</td>\n",
       "    </tr>\n",
       "    <tr>\n",
       "      <th>2</th>\n",
       "      <td>52177</td>\n",
       "      <td>29-01-2014 23:26</td>\n",
       "      <td>29-01-2014 23:30</td>\n",
       "      <td>52177</td>\n",
       "      <td>3411</td>\n",
       "      <td>False</td>\n",
       "      <td>0.933333</td>\n",
       "      <td>0.442857</td>\n",
       "      <td>0.376190</td>\n",
       "      <td>1</td>\n",
       "    </tr>\n",
       "    <tr>\n",
       "      <th>3</th>\n",
       "      <td>53051</td>\n",
       "      <td>29-01-2014 23:42</td>\n",
       "      <td>29-01-2014 23:47</td>\n",
       "      <td>53051</td>\n",
       "      <td>3236</td>\n",
       "      <td>False</td>\n",
       "      <td>0.900000</td>\n",
       "      <td>0.642857</td>\n",
       "      <td>0.542857</td>\n",
       "      <td>1</td>\n",
       "    </tr>\n",
       "    <tr>\n",
       "      <th>4</th>\n",
       "      <td>53283</td>\n",
       "      <td>29-01-2014 23:47</td>\n",
       "      <td>29-01-2014 23:50</td>\n",
       "      <td>53283</td>\n",
       "      <td>3479</td>\n",
       "      <td>True</td>\n",
       "      <td>0.866667</td>\n",
       "      <td>0.742857</td>\n",
       "      <td>0.609524</td>\n",
       "      <td>1</td>\n",
       "    </tr>\n",
       "  </tbody>\n",
       "</table>\n",
       "</div>"
      ],
      "text/plain": [
       "   exp_id        time_start          time_end  profile_id  ua_id  touch  \\\n",
       "0   50572  29-01-2014 17:01  29-01-2014 17:04       50572   1390  False   \n",
       "1   50804  29-01-2014 18:45  29-01-2014 18:50       50572   1390  False   \n",
       "2   52177  29-01-2014 23:26  29-01-2014 23:30       52177   3411  False   \n",
       "3   53051  29-01-2014 23:42  29-01-2014 23:47       53051   3236  False   \n",
       "4   53283  29-01-2014 23:47  29-01-2014 23:50       53283   3479   True   \n",
       "\n",
       "     nw_acc     w_acc     score  profile_id_session  \n",
       "0  0.866667  0.871429  0.738095                   1  \n",
       "1  0.933333  0.757143  0.690476                   2  \n",
       "2  0.933333  0.442857  0.376190                   1  \n",
       "3  0.900000  0.642857  0.542857                   1  \n",
       "4  0.866667  0.742857  0.609524                   1  "
      ]
     },
     "execution_count": 4,
     "metadata": {},
     "output_type": "execute_result"
    }
   ],
   "source": [
    "# Read the sessions file as csv\n",
    "df_sessions = pd.read_csv('D:\\Geoff\\sessions.csv')\n",
    "df_sessions.head()"
   ]
  },
  {
   "cell_type": "code",
   "execution_count": 29,
   "metadata": {},
   "outputs": [
    {
     "name": "stdout",
     "output_type": "stream",
     "text": [
      "Shape of df_sessions (14193, 10)\n",
      "profile_id_count:11759\n",
      "exp_id_count:14193\n"
     ]
    }
   ],
   "source": [
    "print(f'Shape of df_sessions {df_sessions.shape}')\n",
    "profile_id_count = len(df_sessions['profile_id'].unique())\n",
    "exp_id_count = len(df_sessions['exp_id'].unique())\n",
    "print(f\"profile_id_count:{profile_id_count}\")\n",
    "print(f\"exp_id_count:{exp_id_count}\")\n",
    "\n",
    "#  - (21974, 10)\n",
    "# Number of unique profile_id's - 17559"
   ]
  },
  {
   "cell_type": "code",
   "execution_count": 30,
   "metadata": {},
   "outputs": [
    {
     "data": {
      "text/plain": [
       "nw_acc\n",
       "1.000000    7203\n",
       "0.966667    4369\n",
       "0.933333    2621\n",
       "Name: count, dtype: int64"
      ]
     },
     "execution_count": 30,
     "metadata": {},
     "output_type": "execute_result"
    }
   ],
   "source": [
    "#Filtering the profile_id's who's nw_acc > 93\n",
    "\n",
    "df_sessions  = df_sessions.loc[df_sessions['nw_acc'] > 0.93]\n",
    "df_sessions['nw_acc'].value_counts()"
   ]
  },
  {
   "cell_type": "code",
   "execution_count": 32,
   "metadata": {},
   "outputs": [
    {
     "name": "stdout",
     "output_type": "stream",
     "text": [
      "Shape of df_sessions (14193, 10)\n",
      "profileIdCount:11759\n",
      "expIdCount:14193\n"
     ]
    }
   ],
   "source": [
    "# Examining the shape of the sessions dataframe after applying the accuracy filter.\n",
    "print(f'Shape of df_sessions {df_sessions.shape}')\n",
    "profile_id_count = len(df_sessions['profile_id'].unique())\n",
    "exp_id_count = len(df_sessions['exp_id'].unique())\n",
    "print(f\"profileIdCount:{profile_id_count}\")\n",
    "print(f\"expIdCount:{exp_id_count}\")"
   ]
  },
  {
   "cell_type": "code",
   "execution_count": 34,
   "metadata": {},
   "outputs": [
    {
     "data": {
      "text/plain": [
       "lexicality\n",
       "W    1538180\n",
       "I         11\n",
       "Name: count, dtype: int64"
      ]
     },
     "execution_count": 34,
     "metadata": {},
     "output_type": "execute_result"
    }
   ],
   "source": [
    "# Read the lexical-decision file using tab as a delimiter.\n",
    "df_lexical = pd.read_csv('D:\\\\Geoff\\\\lexical-decision.csv',delimiter='\\t')\n",
    "\n",
    "# Applying the necessary filters.\n",
    "df_lexical = df_lexical.loc[(df_lexical['lexicality'] == 'W') | ((df_lexical['lexicality'] == 'I') & (df_lexical['spelling'] == 'hotels')) ]\n",
    "df_lexical['lexicality'].value_counts()"
   ]
  },
  {
   "cell_type": "code",
   "execution_count": 9,
   "metadata": {},
   "outputs": [
    {
     "data": {
      "text/html": [
       "<div>\n",
       "<style scoped>\n",
       "    .dataframe tbody tr th:only-of-type {\n",
       "        vertical-align: middle;\n",
       "    }\n",
       "\n",
       "    .dataframe tbody tr th {\n",
       "        vertical-align: top;\n",
       "    }\n",
       "\n",
       "    .dataframe thead th {\n",
       "        text-align: right;\n",
       "    }\n",
       "</style>\n",
       "<table border=\"1\" class=\"dataframe\">\n",
       "  <thead>\n",
       "    <tr style=\"text-align: right;\">\n",
       "      <th></th>\n",
       "      <th>trial_id</th>\n",
       "      <th>exp_id</th>\n",
       "      <th>trial_order</th>\n",
       "      <th>spelling</th>\n",
       "      <th>lexicality</th>\n",
       "      <th>rt</th>\n",
       "      <th>accuracy</th>\n",
       "      <th>response</th>\n",
       "      <th>rt_adjbox</th>\n",
       "      <th>rt_zscore</th>\n",
       "    </tr>\n",
       "  </thead>\n",
       "  <tbody>\n",
       "    <tr>\n",
       "      <th>0</th>\n",
       "      <td>4724970</td>\n",
       "      <td>50572</td>\n",
       "      <td>0</td>\n",
       "      <td>gust</td>\n",
       "      <td>W</td>\n",
       "      <td>926</td>\n",
       "      <td>1</td>\n",
       "      <td>W</td>\n",
       "      <td>True</td>\n",
       "      <td>NaN</td>\n",
       "    </tr>\n",
       "    <tr>\n",
       "      <th>2</th>\n",
       "      <td>4724972</td>\n",
       "      <td>50572</td>\n",
       "      <td>2</td>\n",
       "      <td>stripper</td>\n",
       "      <td>W</td>\n",
       "      <td>754</td>\n",
       "      <td>1</td>\n",
       "      <td>W</td>\n",
       "      <td>True</td>\n",
       "      <td>NaN</td>\n",
       "    </tr>\n",
       "    <tr>\n",
       "      <th>6</th>\n",
       "      <td>4724976</td>\n",
       "      <td>50572</td>\n",
       "      <td>6</td>\n",
       "      <td>unhealthful</td>\n",
       "      <td>W</td>\n",
       "      <td>1145</td>\n",
       "      <td>1</td>\n",
       "      <td>W</td>\n",
       "      <td>True</td>\n",
       "      <td>NaN</td>\n",
       "    </tr>\n",
       "    <tr>\n",
       "      <th>9</th>\n",
       "      <td>4724979</td>\n",
       "      <td>50572</td>\n",
       "      <td>9</td>\n",
       "      <td>panic</td>\n",
       "      <td>W</td>\n",
       "      <td>629</td>\n",
       "      <td>1</td>\n",
       "      <td>W</td>\n",
       "      <td>True</td>\n",
       "      <td>NaN</td>\n",
       "    </tr>\n",
       "    <tr>\n",
       "      <th>10</th>\n",
       "      <td>4724980</td>\n",
       "      <td>50572</td>\n",
       "      <td>10</td>\n",
       "      <td>vestige</td>\n",
       "      <td>W</td>\n",
       "      <td>635</td>\n",
       "      <td>1</td>\n",
       "      <td>W</td>\n",
       "      <td>True</td>\n",
       "      <td>-0.982006</td>\n",
       "    </tr>\n",
       "  </tbody>\n",
       "</table>\n",
       "</div>"
      ],
      "text/plain": [
       "    trial_id  exp_id  trial_order     spelling lexicality    rt  accuracy  \\\n",
       "0    4724970   50572            0         gust          W   926         1   \n",
       "2    4724972   50572            2     stripper          W   754         1   \n",
       "6    4724976   50572            6  unhealthful          W  1145         1   \n",
       "9    4724979   50572            9        panic          W   629         1   \n",
       "10   4724980   50572           10      vestige          W   635         1   \n",
       "\n",
       "   response  rt_adjbox  rt_zscore  \n",
       "0         W       True        NaN  \n",
       "2         W       True        NaN  \n",
       "6         W       True        NaN  \n",
       "9         W       True        NaN  \n",
       "10        W       True  -0.982006  "
      ]
     },
     "execution_count": 9,
     "metadata": {},
     "output_type": "execute_result"
    }
   ],
   "source": [
    "df_lexical.head()"
   ]
  },
  {
   "cell_type": "code",
   "execution_count": 36,
   "metadata": {},
   "outputs": [
    {
     "name": "stdout",
     "output_type": "stream",
     "text": [
      "The shape of df_lexical is (1538191, 10)\n",
      "expIdCountLexical:21974\n"
     ]
    }
   ],
   "source": [
    "print(f'The shape of df_lexical is {df_lexical.shape}')\n",
    "exp_id_count_lexical = len(df_lexical['exp_id'].unique())\n",
    "print(f\"expIdCountLexical:{exp_id_count_lexical}\")"
   ]
  },
  {
   "cell_type": "code",
   "execution_count": 37,
   "metadata": {},
   "outputs": [
    {
     "name": "stdout",
     "output_type": "stream",
     "text": [
      "exp_id\n",
      "True     993516\n",
      "False    544675\n",
      "Name: count, dtype: int64\n"
     ]
    }
   ],
   "source": [
    "# Select the users from df_lexical based on the users present in the final filtered df_sessions\n",
    "required_exp_ids = (df_lexical['exp_id'].isin(df_sessions['exp_id']))\n",
    "print((df_lexical['exp_id'].isin(df_sessions['exp_id'])).value_counts())\n",
    "df_lexical = df_lexical[required_exp_ids]"
   ]
  },
  {
   "cell_type": "code",
   "execution_count": 38,
   "metadata": {},
   "outputs": [
    {
     "name": "stdout",
     "output_type": "stream",
     "text": [
      "(993516, 10)\n",
      "expIdFilteredCountLexical:14193\n"
     ]
    },
    {
     "data": {
      "text/html": [
       "<div>\n",
       "<style scoped>\n",
       "    .dataframe tbody tr th:only-of-type {\n",
       "        vertical-align: middle;\n",
       "    }\n",
       "\n",
       "    .dataframe tbody tr th {\n",
       "        vertical-align: top;\n",
       "    }\n",
       "\n",
       "    .dataframe thead th {\n",
       "        text-align: right;\n",
       "    }\n",
       "</style>\n",
       "<table border=\"1\" class=\"dataframe\">\n",
       "  <thead>\n",
       "    <tr style=\"text-align: right;\">\n",
       "      <th></th>\n",
       "      <th>trial_id</th>\n",
       "      <th>exp_id</th>\n",
       "      <th>trial_order</th>\n",
       "      <th>spelling</th>\n",
       "      <th>lexicality</th>\n",
       "      <th>rt</th>\n",
       "      <th>accuracy</th>\n",
       "      <th>response</th>\n",
       "      <th>rt_adjbox</th>\n",
       "      <th>rt_zscore</th>\n",
       "    </tr>\n",
       "  </thead>\n",
       "  <tbody>\n",
       "    <tr>\n",
       "      <th>101</th>\n",
       "      <td>4742100</td>\n",
       "      <td>50804</td>\n",
       "      <td>1</td>\n",
       "      <td>unappeased</td>\n",
       "      <td>W</td>\n",
       "      <td>1591</td>\n",
       "      <td>1</td>\n",
       "      <td>W</td>\n",
       "      <td>True</td>\n",
       "      <td>NaN</td>\n",
       "    </tr>\n",
       "    <tr>\n",
       "      <th>102</th>\n",
       "      <td>4742101</td>\n",
       "      <td>50804</td>\n",
       "      <td>2</td>\n",
       "      <td>rollerskate</td>\n",
       "      <td>W</td>\n",
       "      <td>998</td>\n",
       "      <td>1</td>\n",
       "      <td>W</td>\n",
       "      <td>True</td>\n",
       "      <td>NaN</td>\n",
       "    </tr>\n",
       "    <tr>\n",
       "      <th>103</th>\n",
       "      <td>4742102</td>\n",
       "      <td>50804</td>\n",
       "      <td>3</td>\n",
       "      <td>ultra</td>\n",
       "      <td>W</td>\n",
       "      <td>743</td>\n",
       "      <td>1</td>\n",
       "      <td>W</td>\n",
       "      <td>True</td>\n",
       "      <td>NaN</td>\n",
       "    </tr>\n",
       "    <tr>\n",
       "      <th>105</th>\n",
       "      <td>4742104</td>\n",
       "      <td>50804</td>\n",
       "      <td>5</td>\n",
       "      <td>spud</td>\n",
       "      <td>W</td>\n",
       "      <td>1311</td>\n",
       "      <td>1</td>\n",
       "      <td>W</td>\n",
       "      <td>True</td>\n",
       "      <td>NaN</td>\n",
       "    </tr>\n",
       "    <tr>\n",
       "      <th>106</th>\n",
       "      <td>4742105</td>\n",
       "      <td>50804</td>\n",
       "      <td>6</td>\n",
       "      <td>ablution</td>\n",
       "      <td>W</td>\n",
       "      <td>1505</td>\n",
       "      <td>0</td>\n",
       "      <td>N</td>\n",
       "      <td>True</td>\n",
       "      <td>NaN</td>\n",
       "    </tr>\n",
       "  </tbody>\n",
       "</table>\n",
       "</div>"
      ],
      "text/plain": [
       "     trial_id  exp_id  trial_order     spelling lexicality    rt  accuracy  \\\n",
       "101   4742100   50804            1   unappeased          W  1591         1   \n",
       "102   4742101   50804            2  rollerskate          W   998         1   \n",
       "103   4742102   50804            3        ultra          W   743         1   \n",
       "105   4742104   50804            5         spud          W  1311         1   \n",
       "106   4742105   50804            6     ablution          W  1505         0   \n",
       "\n",
       "    response  rt_adjbox  rt_zscore  \n",
       "101        W       True        NaN  \n",
       "102        W       True        NaN  \n",
       "103        W       True        NaN  \n",
       "105        W       True        NaN  \n",
       "106        N       True        NaN  "
      ]
     },
     "execution_count": 38,
     "metadata": {},
     "output_type": "execute_result"
    }
   ],
   "source": [
    "print(df_lexical.shape)\n",
    "exp_id_filtered_count_lexical = len(df_lexical['exp_id'].unique())\n",
    "\n",
    "# Print the final number of unique exp_id\n",
    "print(f\"expIdFilteredCountLexical:{exp_id_filtered_count_lexical}\")\n",
    "df_lexical.head()"
   ]
  },
  {
   "cell_type": "code",
   "execution_count": 13,
   "metadata": {},
   "outputs": [
    {
     "name": "stdout",
     "output_type": "stream",
     "text": [
      "     exp_id     spelling  accuracy\n",
      "101   50804   unappeased         1\n",
      "102   50804  rollerskate         1\n",
      "103   50804        ultra         1\n",
      "105   50804         spud         1\n",
      "106   50804     ablution         0\n",
      "Number of unique words:60688\n"
     ]
    }
   ],
   "source": [
    "# Process the lexical dataframe to include required columns only\n",
    "\n",
    "required_columns = ['exp_id','spelling','accuracy']\n",
    "df_lexical = df_lexical[required_columns]\n",
    "print(df_lexical.head())\n",
    "\n",
    "print(f\"Number of unique words:{len(df_lexical['spelling'].unique())}\")\n"
   ]
  },
  {
   "cell_type": "code",
   "execution_count": 26,
   "metadata": {},
   "outputs": [
    {
     "name": "stdout",
     "output_type": "stream",
     "text": [
      "exp_id       int64\n",
      "spelling    object\n",
      "accuracy     uint8\n",
      "dtype: object\n",
      "<class 'str'>\n"
     ]
    }
   ],
   "source": [
    "# Check the datatypes to implement any memory improvements.\n",
    "print(df_lexical.dtypes)\n",
    "first_value = df_lexical['spelling'].iloc[0]\n",
    "print(type(first_value))"
   ]
  },
  {
   "cell_type": "code",
   "execution_count": 15,
   "metadata": {},
   "outputs": [
    {
     "name": "stdout",
     "output_type": "stream",
     "text": [
      "exp_id       int64\n",
      "spelling    object\n",
      "accuracy     uint8\n",
      "dtype: object\n"
     ]
    }
   ],
   "source": [
    "# Converting the accuracy to a lower memory type as the values are binary or empty.\n",
    "df_lexical['accuracy'] = df_lexical['accuracy'].astype('uint8')\n",
    "print(df_lexical.dtypes)"
   ]
  },
  {
   "cell_type": "code",
   "execution_count": 16,
   "metadata": {},
   "outputs": [
    {
     "name": "stdout",
     "output_type": "stream",
     "text": [
      "Index([    101,     102,     103,     105,     106,     108,     109,     110,\n",
      "           111,     112,\n",
      "       ...\n",
      "       2197219, 2197221, 2197222, 2197223, 2197224, 2197225, 2197226, 2197230,\n",
      "       2197231, 2197233],\n",
      "      dtype='int64', length=993516)\n"
     ]
    }
   ],
   "source": [
    "# Check the index and reset it for memory management.\n",
    "print(df_lexical.index)\n",
    "df_lexical.reset_index(drop=True, inplace=True)"
   ]
  },
  {
   "cell_type": "code",
   "execution_count": 28,
   "metadata": {},
   "outputs": [
    {
     "name": "stdout",
     "output_type": "stream",
     "text": [
      "RangeIndex(start=0, stop=993516, step=1)\n"
     ]
    }
   ],
   "source": [
    "# Check for the final index and create a new file for further processing.\n",
    "print(df_lexical.index)\n",
    "df_lexical.to_csv(\"D:\\\\Geoff\\\\lexical.csv\")"
   ]
  },
  {
   "cell_type": "code",
   "execution_count": 19,
   "metadata": {},
   "outputs": [
    {
     "name": "stdout",
     "output_type": "stream",
     "text": [
      "Requirement already satisfied: joblib in d:\\geoff\\.conda\\lib\\site-packages (1.3.2)\n"
     ]
    }
   ],
   "source": [
    "# Install joblib library for parallel processing\n",
    "! pip install joblib"
   ]
  },
  {
   "cell_type": "code",
   "execution_count": 20,
   "metadata": {},
   "outputs": [
    {
     "name": "stderr",
     "output_type": "stream",
     "text": [
      "<>:9: SyntaxWarning: invalid escape sequence '\\G'\n",
      "<>:9: SyntaxWarning: invalid escape sequence '\\G'\n",
      "C:\\Users\\gouth\\AppData\\Local\\Temp\\ipykernel_4792\\3569949980.py:9: SyntaxWarning: invalid escape sequence '\\G'\n",
      "  chunks = pd.read_csv('D:\\Geoff\\lexical.csv', chunksize=chunk_size)\n"
     ]
    },
    {
     "name": "stdout",
     "output_type": "stream",
     "text": [
      "spelling abandonee abductor abeam abecedary abele abet abettor abhorrent  \\\n",
      "exp_id                                                                     \n",
      "50804                                                                      \n",
      "52177                                                                      \n",
      "57540                                                                      \n",
      "61203                                                                      \n",
      "63167          1.0                                                         \n",
      "\n",
      "spelling abidingly abjurer  ... overcapacity articulated insolvable springe  \\\n",
      "exp_id                      ...                                               \n",
      "50804                       ...          NaN         NaN        NaN     NaN   \n",
      "52177                       ...          NaN         NaN        NaN     NaN   \n",
      "57540                       ...          NaN         NaN        NaN     NaN   \n",
      "61203                       ...          NaN         NaN        NaN     NaN   \n",
      "63167                       ...          NaN         NaN        NaN     NaN   \n",
      "\n",
      "spelling sexcentenary snowman retelling travesty clavicle ribald  \n",
      "exp_id                                                            \n",
      "50804             NaN     NaN       NaN      NaN      NaN    NaN  \n",
      "52177             NaN     NaN       NaN      NaN      NaN    NaN  \n",
      "57540             NaN     NaN       NaN      NaN      NaN    NaN  \n",
      "61203             NaN     NaN       NaN      NaN      NaN    NaN  \n",
      "63167             NaN     NaN       NaN      NaN      NaN    NaN  \n",
      "\n",
      "[5 rows x 60687 columns]\n"
     ]
    }
   ],
   "source": [
    "from joblib import Parallel, delayed\n",
    "\n",
    "# Function to pivot a chunk of DataFrame\n",
    "def pivot_chunk(chunk):\n",
    "    return chunk.pivot_table(index='exp_id', columns='spelling', values='accuracy', fill_value='')\n",
    "\n",
    "# Read CSV file in chunks\n",
    "chunk_size = 10000\n",
    "chunks = pd.read_csv('D:\\\\Geoff\\\\lexical.csv', chunksize=chunk_size)\n",
    "\n",
    "# Process chunks in parallel and concatenate results\n",
    "pivoted_dfs = Parallel(n_jobs=-1)(delayed(pivot_chunk)(chunk) for chunk in chunks)\n",
    "final_df = pd.concat(pivoted_dfs)\n",
    "\n",
    "# Print the final pivoted DataFrame\n",
    "print(final_df.head())\n"
   ]
  },
  {
   "cell_type": "code",
   "execution_count": 21,
   "metadata": {},
   "outputs": [
    {
     "name": "stdout",
     "output_type": "stream",
     "text": [
      "(14292, 60687)\n",
      "<class 'pandas.core.frame.DataFrame'>\n",
      "Index: 14292 entries, 50804 to 12931042\n",
      "Columns: 60687 entries, abandonee to ribald\n",
      "dtypes: object(60687)\n",
      "memory usage: 6.5+ GB\n",
      "None\n"
     ]
    }
   ],
   "source": [
    "print(f'Shape of final dataframe {final_df.shape}')\n",
    "print(f'Information of the final dataframe {final_df.info()}')\n"
   ]
  },
  {
   "cell_type": "code",
   "execution_count": 22,
   "metadata": {},
   "outputs": [
    {
     "name": "stderr",
     "output_type": "stream",
     "text": [
      "<>:2: SyntaxWarning: invalid escape sequence '\\G'\n",
      "<>:2: SyntaxWarning: invalid escape sequence '\\G'\n",
      "C:\\Users\\gouth\\AppData\\Local\\Temp\\ipykernel_4792\\3107770976.py:2: SyntaxWarning: invalid escape sequence '\\G'\n",
      "  output_file = 'D:\\Geoff\\\\final.csv'  # Change the file extension as needed\n"
     ]
    },
    {
     "name": "stdout",
     "output_type": "stream",
     "text": [
      "DataFrame saved to D:\\Geoff\\final.csv successfully.\n"
     ]
    }
   ],
   "source": [
    "# Define the file path for saving the DataFrame\n",
    "output_file = 'D:\\\\Geoff\\\\final.csv'  # Change the file extension as needed\n",
    "\n",
    "# Write the DataFrame to a CSV file with efficient memory usage\n",
    "final_df.to_csv(output_file, sep ='\\t', index=True, index_label='exp_id', chunksize=10000,)\n",
    "\n",
    "# For Excel file:\n",
    "# final_df.to_excel(output_file, index=True)\n",
    "\n",
    "print(f\"DataFrame saved to {output_file} successfully.\")\n"
   ]
  },
  {
   "cell_type": "code",
   "execution_count": 23,
   "metadata": {},
   "outputs": [
    {
     "data": {
      "text/plain": [
       "ablution\n",
       "       1712\n",
       "0.0      11\n",
       "1.0       3\n",
       "Name: count, dtype: int64"
      ]
     },
     "execution_count": 23,
     "metadata": {},
     "output_type": "execute_result"
    }
   ],
   "source": [
    "# Check if the values of different words are mapped correctly by changing the word in the brackets.\n",
    "final_df['ablution'].value_counts()"
   ]
  }
 ],
 "metadata": {
  "kernelspec": {
   "display_name": "base",
   "language": "python",
   "name": "python3"
  },
  "language_info": {
   "codemirror_mode": {
    "name": "ipython",
    "version": 3
   },
   "file_extension": ".py",
   "mimetype": "text/x-python",
   "name": "python",
   "nbconvert_exporter": "python",
   "pygments_lexer": "ipython3",
   "version": "3.12.2"
  }
 },
 "nbformat": 4,
 "nbformat_minor": 2
}
